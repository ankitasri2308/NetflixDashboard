{
 "cells": [
  {
   "cell_type": "markdown",
   "id": "10915a98",
   "metadata": {},
   "source": [
    "# <center> Predicting Flight Ticket Prices </center>"
   ]
  },
  {
   "cell_type": "markdown",
   "id": "a62f69c9",
   "metadata": {},
   "source": [
    "# Table of Contents:\n",
    "* ## [Introduction](#introduction)\n",
    "\n",
    "* ## [Scraped Data EDA](#eda)\n",
    "\n",
    "* ## [Handling Categorical Data](#cat_data)\n",
    "\n",
    "* ## [Features](#features)\n",
    "\n",
    "* ## [Modeling](#modeling)\n",
    "\n",
    "* ## [Saving The Final Model](#model)"
   ]
  },
  {
   "cell_type": "markdown",
   "id": "a302157f",
   "metadata": {},
   "source": [
    "## Introduction: <a class=\"anchor\" id=\"introduction\"></a>"
   ]
  },
  {
   "cell_type": "markdown",
   "id": "0f6d5c6e",
   "metadata": {},
   "source": [
    "<b> This is the main notebook for the flight price prediction project. We predict ticket prices for upcoming flights to help customers in selecting the optimum time for travel and the cheapest flight to the desired destination. The data of the project which is used to train the models is scraped from [Kayak](http://www.kayak.com)  </b>"
   ]
  },
  {
   "cell_type": "markdown",
   "id": "dd3b1502",
   "metadata": {},
   "source": [
    "### Importing necessarry libraries"
   ]
  },
  {
   "cell_type": "code",
   "execution_count": 187,
   "id": "312fbc11",
   "metadata": {},
   "outputs": [],
   "source": [
    "import numpy as np\n",
    "import pandas as pd\n",
    "import matplotlib.pyplot as plt\n",
    "import seaborn as sns\n",
    "import pickle as pkl\n",
    "\n",
    "sns.set()\n",
    "\n",
    "from sklearn.model_selection import train_test_split, RandomizedSearchCV\n",
    "from sklearn.linear_model import LinearRegression, Ridge, Lasso, ElasticNet\n",
    "from sklearn.preprocessing import StandardScaler, PolynomialFeatures\n",
    "from sklearn.pipeline import make_pipeline\n",
    "from sklearn.model_selection import cross_val_score, train_test_split, KFold, GridSearchCV\n",
    "from sklearn.ensemble import RandomForestRegressor, ExtraTreesRegressor\n",
    "from sklearn import metrics"
   ]
  },
  {
   "cell_type": "markdown",
   "id": "dbd855d2",
   "metadata": {},
   "source": [
    "## Scraped Data EDA: <a class=\"anchor\" id=\"eda\"></a>\n",
    "### Loading the scraped data"
   ]
  },
  {
   "cell_type": "code",
   "execution_count": 119,
   "id": "fbb7fe38",
   "metadata": {},
   "outputs": [],
   "source": [
    "df_1 = pd.read_csv(\"data/PAR_NYC.csv\")\n",
    "df_2 = pd.read_csv(\"data/PAR_SVO.csv\")\n",
    "df_3 = pd.read_csv(\"data/SVO_NYC.csv\")\n",
    "df_4 = pd.read_csv(\"data/SVO_RUH.csv\")\n",
    "df_5 = pd.read_csv(\"data/NYC_PAR.csv\")\n",
    "df_6 = pd.read_csv(\"data/NYC_SVO.csv\")\n",
    "df_7 = pd.read_csv(\"data/RUH_NYC.csv\")\n",
    "df_8 = pd.read_csv(\"data/RUH_PAR.csv\")\n",
    "df_9 = pd.read_csv(\"data/RUH_SVO.csv\")\n",
    "df_10 = pd.read_csv(\"data/SVO_PAR.csv\")\n",
    "df_11 = pd.read_csv(\"data/PAR_RUH.csv\")\n",
    "df_12 = pd.read_csv(\"data/NYC_RUH.csv\")"
   ]
  },
  {
   "cell_type": "code",
   "execution_count": 120,
   "id": "92e3e085",
   "metadata": {},
   "outputs": [
    {
     "name": "stdout",
     "output_type": "stream",
     "text": [
      "PAR => NYC route has 14881 trips\n",
      "PAR => SVO route has 2403 trips\n",
      "SVO => NYC route has 4202 trips\n",
      "SVO => RUH route has 2235 trips\n",
      "NYC => PAR route has 5334 trips\n",
      "NYC => SVO route has 1905 trips\n",
      "RUH => NYC route has 7279 trips\n",
      "RUH => PAR route has 553 trips\n",
      "RUH => SVO route has 2725 trips\n",
      "SVO => PAR route has 3314 trips\n",
      "PAR => RUH route has 7327 trips\n",
      "NYC => RUH route has 3205 trips\n"
     ]
    }
   ],
   "source": [
    "print(f\"{df_1['Source'][0]} => {df_1['Destination'][0]} route has {df_1.shape[0]} trips\")\n",
    "print(f\"{df_2['Source'][0]} => {df_2['Destination'][0]} route has {df_2.shape[0]} trips\")\n",
    "print(f\"{df_3['Source'][0]} => {df_3['Destination'][0]} route has {df_3.shape[0]} trips\")\n",
    "print(f\"{df_4['Source'][0]} => {df_4['Destination'][0]} route has {df_4.shape[0]} trips\")\n",
    "print(f\"{df_5['Source'][0]} => {df_5['Destination'][0]} route has {df_5.shape[0]} trips\")\n",
    "print(f\"{df_6['Source'][0]} => {df_6['Destination'][0]} route has {df_6.shape[0]} trips\")\n",
    "print(f\"{df_7['Source'][0]} => {df_7['Destination'][0]} route has {df_7.shape[0]} trips\")\n",
    "print(f\"{df_8['Source'][0]} => {df_8['Destination'][0]} route has {df_8.shape[0]} trips\")\n",
    "print(f\"{df_9['Source'][0]} => {df_9['Destination'][0]} route has {df_9.shape[0]} trips\")\n",
    "print(f\"{df_10['Source'][0]} => {df_10['Destination'][0]} route has {df_10.shape[0]} trips\")\n",
    "print(f\"{df_11['Source'][0]} => {df_11['Destination'][0]} route has {df_11.shape[0]} trips\")\n",
    "print(f\"{df_12['Source'][0]} => {df_12['Destination'][0]} route has {df_12.shape[0]} trips\")"
   ]
  },
  {
   "cell_type": "markdown",
   "id": "7368c341",
   "metadata": {},
   "source": [
    "### Defining functions to clean the data"
   ]
  },
  {
   "cell_type": "code",
   "execution_count": 121,
   "id": "e01fdee1",
   "metadata": {},
   "outputs": [],
   "source": [
    "# convert duration to numerical format in minutes\n",
    "def clean_duration(duration):\n",
    "    duration = list(duration)\n",
    "    duration_hours = []\n",
    "    duration_mins = []\n",
    "    for i in range(len(duration)):\n",
    "        duration_hours.append(int(duration[i].split(sep = \"h\")[0])) # Extract hours from duration\n",
    "        duration_mins.append(int(duration[i].split(sep = \"m\")[0].split()[-1])) # Extracts only minutes from duration\n",
    "\n",
    "    d = []\n",
    "    for i in range(len(duration)):\n",
    "        d.append(duration_hours[i]*60+duration_mins[i])\n",
    "        \n",
    "    return d\n",
    "\n",
    "# convert price to numerical format in USD\n",
    "def clean_price(price):\n",
    "    price = price.str.replace(',','',regex=True)\n",
    "    price = price.str.replace('SAR','',regex=True)\n",
    "    price = price.str.strip()\n",
    "    price = round(pd.to_numeric(price)/3.75,2)\n",
    "    return price\n",
    "\n",
    "# convert date to datetime format\n",
    "def clean_date(date):\n",
    "    date = pd.to_datetime(date)\n",
    "    return date\n",
    "\n",
    "# get price quantile to deal with outliers\n",
    "def get_price_quantile(price):\n",
    "    Q1 = price.quantile(0.25)\n",
    "    Q3 = price.quantile(0.75)\n",
    "    IQR = Q3 - Q1\n",
    "    lower_lim = Q1 - 1.5 * IQR\n",
    "    upper_lim = Q3 + 1.5 * IQR\n",
    "    return (lower_lim,upper_lim)\n",
    "\n",
    "# get average of each airline\n",
    "def get_avg_per_airline(x):\n",
    "    # average for trips with multiple airlines\n",
    "    multiple_airlines = x[x[\"Airline\"].str.contains(\",\")]\n",
    "    b = list(multiple_airlines[\"Airline\"].str.split(\",\"))\n",
    "    d = [] # Airline 1\n",
    "    e = [] # Airline 2\n",
    "    for i in range(len(b)):\n",
    "        d.append(b[i][0])\n",
    "        e.append(b[i][1])\n",
    "    for i in range(len(e)):\n",
    "        e[i] = e[i].strip()\n",
    "    m_airlines = list(set(d)) + list(set(e))\n",
    "    column_names = [\"Airline\", \"Average Price\"]\n",
    "    t_ = pd.DataFrame(columns = column_names)\n",
    "    for airline in m_airlines:\n",
    "        t = pd.DataFrame(x[x[\"Airline\"].str.contains(airline)][\"Airline\"])\n",
    "        t[\"Average Price\"] = x[x[\"Airline\"].str.contains(airline)][\"Price\"].mean()\n",
    "        t_ = t_.append(t)\n",
    "    t__ = t_.groupby(\"Airline\",as_index = False)[\"Average Price\"].mean()\n",
    "    k = multiple_airlines.copy()\n",
    "    k = k.merge(t__, on = \"Airline\", how = \"left\")\n",
    "    \n",
    "    # average for trips with single airlines\n",
    "    single_airlines = x[~x[\"Airline\"].str.contains(\",\")]\n",
    "    avg_per_airline = single_airlines.groupby(\"Airline\", as_index = False)[\"Price\"].mean()\n",
    "    avg_per_airline = avg_per_airline.rename(columns={\"Price\" : \"Average Price\"})\n",
    "    temp = single_airlines.copy()\n",
    "    temp = temp.merge(avg_per_airline, on='Airline', how =\"left\")\n",
    "    \n",
    "    temp_1 = temp.groupby(\"Airline\", as_index = False)[\"Average Price\"].mean()\n",
    "    k_1 = k.groupby(\"Airline\", as_index = False)[\"Average Price\"].mean()\n",
    "    k_temp = pd.concat([k_1,temp_1])\n",
    "    y = x.merge(k_temp, on = \"Airline\")\n",
    "    \n",
    "    return y\n"
   ]
  },
  {
   "cell_type": "code",
   "execution_count": 122,
   "id": "9b4ce84d",
   "metadata": {},
   "outputs": [],
   "source": [
    "dfs_raw = [df_1,df_2,df_3,df_4,df_5,df_6,df_7,df_8,df_9,df_10,df_11,df_12]"
   ]
  },
  {
   "cell_type": "code",
   "execution_count": 123,
   "id": "11331c2f",
   "metadata": {},
   "outputs": [],
   "source": [
    "# cleaning the data\n",
    "dfs = []\n",
    "for df in dfs_raw:\n",
    "    df.drop_duplicates() # drop duplicate rows\n",
    "    df[\"Duration\"] = clean_duration(df[\"Duration\"]) # convert duration to numerical minutes format\n",
    "    df[\"Price\"] = clean_price(df[\"Price\"]) # convert price to numerical format in USD\n",
    "    df[\"Date\"] = clean_date(df[\"Date\"]) # convert date to datetime format\n",
    "    dfs.append(get_avg_per_airline(df)) # get average per airline\n"
   ]
  },
  {
   "cell_type": "markdown",
   "id": "5ce3b7c0",
   "metadata": {},
   "source": [
    "### Studying outliers"
   ]
  },
  {
   "cell_type": "code",
   "execution_count": 124,
   "id": "101a17af",
   "metadata": {
    "scrolled": false
   },
   "outputs": [
    {
     "data": {
      "image/png": "[encoded data removed]",
      "text/plain": [
       "<Figure size 1080x1080 with 12 Axes>"
      ]
     },
     "metadata": {},
     "output_type": "display_data"
    }
   ],
   "source": [
    "# boxplots for each route\n",
    "k=0\n",
    "figure, axis = plt.subplots(4, 3, figsize=(15,15))\n",
    "for i in range(4):\n",
    "    for j in range(3):\n",
    "        axis[i,j].boxplot(dfs[k]['Price'])\n",
    "        axis[i,j].set_title(f\"{dfs[k]['Source'][0]} TO {dfs[k]['Destination'][0]}\")\n",
    "        k += 1"
   ]
  },
  {
   "cell_type": "markdown",
   "id": "681fa046",
   "metadata": {},
   "source": [
    "#### It is apparent that all routes have outliers, so we'll deal with them by IQR"
   ]
  },
  {
   "cell_type": "code",
   "execution_count": 125,
   "id": "1752261c",
   "metadata": {},
   "outputs": [],
   "source": [
    "# get quantile to deal with outliers\n",
    "lower = []\n",
    "upper = []\n",
    "for df in dfs:\n",
    "    x = get_price_quantile(df['Price'])\n",
    "    lower.append(x[0])\n",
    "    upper.append(x[1])"
   ]
  },
  {
   "cell_type": "code",
   "execution_count": 126,
   "id": "68008836",
   "metadata": {},
   "outputs": [],
   "source": [
    "# drop outliers\n",
    "k = 0\n",
    "for df in dfs:\n",
    "    low = df['Price'] < lower[k]\n",
    "    up = df['Price'] > upper[k]\n",
    "    df['Price'] = df['Price'][~(low|up)]\n",
    "    df.dropna(inplace=True)\n",
    "    df.reset_index(drop = True,inplace=True)\n",
    "    k+=1"
   ]
  },
  {
   "cell_type": "code",
   "execution_count": 127,
   "id": "cbed5070",
   "metadata": {},
   "outputs": [
    {
     "data": {
      "image/png": "[encoded data removed]",
      "text/plain": [
       "<Figure size 1080x1080 with 12 Axes>"
      ]
     },
     "metadata": {},
     "output_type": "display_data"
    }
   ],
   "source": [
    "# boxplot for each route after dealing with outliers\n",
    "k=0\n",
    "figure, axis = plt.subplots(4, 3, figsize=(15,15))\n",
    "for i in range(4):\n",
    "    for j in range(3):\n",
    "        axis[i,j].boxplot(dfs[k]['Price'])\n",
    "        axis[i,j].set_title(f\"{dfs[k]['Source'][0]} TO {dfs[k]['Destination'][0]}\")\n",
    "        k += 1"
   ]
  },
  {
   "cell_type": "markdown",
   "id": "0a9e2aab",
   "metadata": {},
   "source": [
    "#### Now the data is much better, the total dropped data is 5,266 rows out of 55,363."
   ]
  },
  {
   "cell_type": "code",
   "execution_count": 128,
   "id": "feb203a8",
   "metadata": {},
   "outputs": [
    {
     "data": {
      "text/html": [
       "<div>\n",
       "<style scoped>\n",
       "    .dataframe tbody tr th:only-of-type {\n",
       "        vertical-align: middle;\n",
       "    }\n",
       "\n",
       "    .dataframe tbody tr th {\n",
       "        vertical-align: top;\n",
       "    }\n",
       "\n",
       "    .dataframe thead th {\n",
       "        text-align: right;\n",
       "    }\n",
       "</style>\n",
       "<table border=\"1\" class=\"dataframe\">\n",
       "  <thead>\n",
       "    <tr style=\"text-align: right;\">\n",
       "      <th></th>\n",
       "      <th>Airline</th>\n",
       "      <th>Source</th>\n",
       "      <th>Destination</th>\n",
       "      <th>Duration</th>\n",
       "      <th>Total stops</th>\n",
       "      <th>Price</th>\n",
       "      <th>Date</th>\n",
       "      <th>Average Price</th>\n",
       "    </tr>\n",
       "  </thead>\n",
       "  <tbody>\n",
       "    <tr>\n",
       "      <th>0</th>\n",
       "      <td>TAP AIR PORTUGAL</td>\n",
       "      <td>PAR</td>\n",
       "      <td>NYC</td>\n",
       "      <td>770</td>\n",
       "      <td>1 stop</td>\n",
       "      <td>379.47</td>\n",
       "      <td>2022-02-01</td>\n",
       "      <td>441.343760</td>\n",
       "    </tr>\n",
       "    <tr>\n",
       "      <th>1</th>\n",
       "      <td>TAP AIR PORTUGAL</td>\n",
       "      <td>PAR</td>\n",
       "      <td>NYC</td>\n",
       "      <td>770</td>\n",
       "      <td>1 stop</td>\n",
       "      <td>379.47</td>\n",
       "      <td>2022-02-01</td>\n",
       "      <td>441.343760</td>\n",
       "    </tr>\n",
       "    <tr>\n",
       "      <th>2</th>\n",
       "      <td>TAP AIR PORTUGAL</td>\n",
       "      <td>PAR</td>\n",
       "      <td>NYC</td>\n",
       "      <td>810</td>\n",
       "      <td>1 stop</td>\n",
       "      <td>379.47</td>\n",
       "      <td>2022-02-01</td>\n",
       "      <td>441.343760</td>\n",
       "    </tr>\n",
       "    <tr>\n",
       "      <th>3</th>\n",
       "      <td>TAP AIR PORTUGAL</td>\n",
       "      <td>PAR</td>\n",
       "      <td>NYC</td>\n",
       "      <td>890</td>\n",
       "      <td>1 stop</td>\n",
       "      <td>379.47</td>\n",
       "      <td>2022-02-01</td>\n",
       "      <td>441.343760</td>\n",
       "    </tr>\n",
       "    <tr>\n",
       "      <th>4</th>\n",
       "      <td>TAP AIR PORTUGAL</td>\n",
       "      <td>PAR</td>\n",
       "      <td>NYC</td>\n",
       "      <td>1030</td>\n",
       "      <td>1 stop</td>\n",
       "      <td>379.47</td>\n",
       "      <td>2022-02-01</td>\n",
       "      <td>441.343760</td>\n",
       "    </tr>\n",
       "    <tr>\n",
       "      <th>...</th>\n",
       "      <td>...</td>\n",
       "      <td>...</td>\n",
       "      <td>...</td>\n",
       "      <td>...</td>\n",
       "      <td>...</td>\n",
       "      <td>...</td>\n",
       "      <td>...</td>\n",
       "      <td>...</td>\n",
       "    </tr>\n",
       "    <tr>\n",
       "      <th>3046</th>\n",
       "      <td>SAS, Pegasus Airlines</td>\n",
       "      <td>NYC</td>\n",
       "      <td>RUH</td>\n",
       "      <td>1300</td>\n",
       "      <td>2 stops</td>\n",
       "      <td>930.40</td>\n",
       "      <td>2022-04-13</td>\n",
       "      <td>838.732500</td>\n",
       "    </tr>\n",
       "    <tr>\n",
       "      <th>3047</th>\n",
       "      <td>Qatar Airways, SAUDIA</td>\n",
       "      <td>NYC</td>\n",
       "      <td>RUH</td>\n",
       "      <td>1420</td>\n",
       "      <td>2 stops</td>\n",
       "      <td>1018.40</td>\n",
       "      <td>2022-04-13</td>\n",
       "      <td>1972.813714</td>\n",
       "    </tr>\n",
       "    <tr>\n",
       "      <th>3048</th>\n",
       "      <td>Qatar Airways, MEA</td>\n",
       "      <td>NYC</td>\n",
       "      <td>RUH</td>\n",
       "      <td>1415</td>\n",
       "      <td>2 stops</td>\n",
       "      <td>1049.87</td>\n",
       "      <td>2022-04-13</td>\n",
       "      <td>1133.548015</td>\n",
       "    </tr>\n",
       "    <tr>\n",
       "      <th>3049</th>\n",
       "      <td>Emirates, Turkish Airlines</td>\n",
       "      <td>NYC</td>\n",
       "      <td>RUH</td>\n",
       "      <td>1100</td>\n",
       "      <td>2 stops</td>\n",
       "      <td>1053.60</td>\n",
       "      <td>2022-04-13</td>\n",
       "      <td>1023.900221</td>\n",
       "    </tr>\n",
       "    <tr>\n",
       "      <th>3050</th>\n",
       "      <td>Lufthansa, MEA</td>\n",
       "      <td>NYC</td>\n",
       "      <td>RUH</td>\n",
       "      <td>1115</td>\n",
       "      <td>3 stops</td>\n",
       "      <td>1139.73</td>\n",
       "      <td>2022-04-13</td>\n",
       "      <td>1023.714222</td>\n",
       "    </tr>\n",
       "  </tbody>\n",
       "</table>\n",
       "<p>50097 rows × 8 columns</p>\n",
       "</div>"
      ],
      "text/plain": [
       "                         Airline Source Destination  Duration Total stops  \\\n",
       "0               TAP AIR PORTUGAL    PAR         NYC       770     1 stop    \n",
       "1               TAP AIR PORTUGAL    PAR         NYC       770     1 stop    \n",
       "2               TAP AIR PORTUGAL    PAR         NYC       810     1 stop    \n",
       "3               TAP AIR PORTUGAL    PAR         NYC       890     1 stop    \n",
       "4               TAP AIR PORTUGAL    PAR         NYC      1030     1 stop    \n",
       "...                          ...    ...         ...       ...         ...   \n",
       "3046       SAS, Pegasus Airlines    NYC         RUH      1300    2 stops    \n",
       "3047       Qatar Airways, SAUDIA    NYC         RUH      1420    2 stops    \n",
       "3048          Qatar Airways, MEA    NYC         RUH      1415    2 stops    \n",
       "3049  Emirates, Turkish Airlines    NYC         RUH      1100    2 stops    \n",
       "3050              Lufthansa, MEA    NYC         RUH      1115    3 stops    \n",
       "\n",
       "        Price       Date  Average Price  \n",
       "0      379.47 2022-02-01     441.343760  \n",
       "1      379.47 2022-02-01     441.343760  \n",
       "2      379.47 2022-02-01     441.343760  \n",
       "3      379.47 2022-02-01     441.343760  \n",
       "4      379.47 2022-02-01     441.343760  \n",
       "...       ...        ...            ...  \n",
       "3046   930.40 2022-04-13     838.732500  \n",
       "3047  1018.40 2022-04-13    1972.813714  \n",
       "3048  1049.87 2022-04-13    1133.548015  \n",
       "3049  1053.60 2022-04-13    1023.900221  \n",
       "3050  1139.73 2022-04-13    1023.714222  \n",
       "\n",
       "[50097 rows x 8 columns]"
      ]
     },
     "execution_count": 128,
     "metadata": {},
     "output_type": "execute_result"
    }
   ],
   "source": [
    "# concat all routes into one dataframe\n",
    "df = pd.concat(dfs)\n",
    "df"
   ]
  },
  {
   "cell_type": "code",
   "execution_count": 129,
   "id": "62b2a0cf",
   "metadata": {},
   "outputs": [
    {
     "data": {
      "text/plain": [
       "Airline          0\n",
       "Source           0\n",
       "Destination      0\n",
       "Duration         0\n",
       "Total stops      0\n",
       "Price            0\n",
       "Date             0\n",
       "Average Price    0\n",
       "dtype: int64"
      ]
     },
     "execution_count": 129,
     "metadata": {},
     "output_type": "execute_result"
    }
   ],
   "source": [
    "# check for null values\n",
    "df.isnull().sum()"
   ]
  },
  {
   "cell_type": "markdown",
   "id": "86b55b03",
   "metadata": {},
   "source": [
    "## Handling Categorical Data: <a class=\"anchor\" id=\"cat_data\"></a>\n"
   ]
  },
  {
   "cell_type": "code",
   "execution_count": 130,
   "id": "d7446238",
   "metadata": {
    "scrolled": true
   },
   "outputs": [],
   "source": [
    "# the Airline column will be replaced by the average price per airline.\n",
    "df.drop(\"Airline\", axis = 1, inplace = True)"
   ]
  },
  {
   "cell_type": "code",
   "execution_count": 131,
   "id": "a9f0ecf7",
   "metadata": {},
   "outputs": [
    {
     "data": {
      "text/plain": [
       "PAR    23054\n",
       "NYC     9411\n",
       "RUH     9140\n",
       "SVO     8492\n",
       "Name: Source, dtype: int64"
      ]
     },
     "execution_count": 131,
     "metadata": {},
     "output_type": "execute_result"
    }
   ],
   "source": [
    "# source\n",
    "df[\"Source\"].value_counts()"
   ]
  },
  {
   "cell_type": "code",
   "execution_count": 132,
   "id": "b2eff4ae",
   "metadata": {},
   "outputs": [
    {
     "data": {
      "text/plain": [
       "<seaborn.axisgrid.FacetGrid at 0x2a5da3b2040>"
      ]
     },
     "execution_count": 132,
     "metadata": {},
     "output_type": "execute_result"
    },
    {
     "data": {
      "image/png": "[encoded data removed]",
      "text/plain": [
       "<Figure size 1296x432 with 1 Axes>"
      ]
     },
     "metadata": {},
     "output_type": "display_data"
    }
   ],
   "source": [
    "# source vs price\n",
    "sns.catplot(y = \"Price\", x= \"Source\", data = df.sort_values(\"Price\", ascending = False), kind=\"boxen\", height = 6, aspect = 3)"
   ]
  },
  {
   "cell_type": "code",
   "execution_count": 133,
   "id": "39508f3a",
   "metadata": {},
   "outputs": [
    {
     "data": {
      "text/html": [
       "<div>\n",
       "<style scoped>\n",
       "    .dataframe tbody tr th:only-of-type {\n",
       "        vertical-align: middle;\n",
       "    }\n",
       "\n",
       "    .dataframe tbody tr th {\n",
       "        vertical-align: top;\n",
       "    }\n",
       "\n",
       "    .dataframe thead th {\n",
       "        text-align: right;\n",
       "    }\n",
       "</style>\n",
       "<table border=\"1\" class=\"dataframe\">\n",
       "  <thead>\n",
       "    <tr style=\"text-align: right;\">\n",
       "      <th></th>\n",
       "      <th>Source_PAR</th>\n",
       "      <th>Source_RUH</th>\n",
       "      <th>Source_SVO</th>\n",
       "    </tr>\n",
       "  </thead>\n",
       "  <tbody>\n",
       "    <tr>\n",
       "      <th>0</th>\n",
       "      <td>1</td>\n",
       "      <td>0</td>\n",
       "      <td>0</td>\n",
       "    </tr>\n",
       "    <tr>\n",
       "      <th>1</th>\n",
       "      <td>1</td>\n",
       "      <td>0</td>\n",
       "      <td>0</td>\n",
       "    </tr>\n",
       "    <tr>\n",
       "      <th>2</th>\n",
       "      <td>1</td>\n",
       "      <td>0</td>\n",
       "      <td>0</td>\n",
       "    </tr>\n",
       "    <tr>\n",
       "      <th>3</th>\n",
       "      <td>1</td>\n",
       "      <td>0</td>\n",
       "      <td>0</td>\n",
       "    </tr>\n",
       "    <tr>\n",
       "      <th>4</th>\n",
       "      <td>1</td>\n",
       "      <td>0</td>\n",
       "      <td>0</td>\n",
       "    </tr>\n",
       "  </tbody>\n",
       "</table>\n",
       "</div>"
      ],
      "text/plain": [
       "   Source_PAR  Source_RUH  Source_SVO\n",
       "0           1           0           0\n",
       "1           1           0           0\n",
       "2           1           0           0\n",
       "3           1           0           0\n",
       "4           1           0           0"
      ]
     },
     "execution_count": 133,
     "metadata": {},
     "output_type": "execute_result"
    }
   ],
   "source": [
    "# performing OneHotEncoding on Source since it's nominal categorical data  \n",
    "source =df[[\"Source\"]]\n",
    "source =pd.get_dummies(source, drop_first=True)\n",
    "source.head()"
   ]
  },
  {
   "cell_type": "code",
   "execution_count": 134,
   "id": "cf024fa4",
   "metadata": {},
   "outputs": [
    {
     "data": {
      "text/plain": [
       "NYC    24926\n",
       "RUH    11046\n",
       "PAR     8042\n",
       "SVO     6083\n",
       "Name: Destination, dtype: int64"
      ]
     },
     "execution_count": 134,
     "metadata": {},
     "output_type": "execute_result"
    }
   ],
   "source": [
    "# destination\n",
    "df[\"Destination\"].value_counts()"
   ]
  },
  {
   "cell_type": "code",
   "execution_count": 136,
   "id": "254be453",
   "metadata": {},
   "outputs": [
    {
     "data": {
      "text/plain": [
       "<seaborn.axisgrid.FacetGrid at 0x2a58a3f8790>"
      ]
     },
     "execution_count": 136,
     "metadata": {},
     "output_type": "execute_result"
    },
    {
     "data": {
      "image/png": "[encoded data removed]",
      "text/plain": [
       "<Figure size 1296x432 with 1 Axes>"
      ]
     },
     "metadata": {},
     "output_type": "display_data"
    }
   ],
   "source": [
    "# destination vs price\n",
    "sns.catplot(y = \"Price\", x= \"Destination\", data = df.sort_values(\"Price\", ascending = False), kind=\"boxen\", height = 6, aspect = 3)"
   ]
  },
  {
   "cell_type": "code",
   "execution_count": 154,
   "id": "7a205f46",
   "metadata": {},
   "outputs": [
    {
     "data": {
      "text/html": [
       "<div>\n",
       "<style scoped>\n",
       "    .dataframe tbody tr th:only-of-type {\n",
       "        vertical-align: middle;\n",
       "    }\n",
       "\n",
       "    .dataframe tbody tr th {\n",
       "        vertical-align: top;\n",
       "    }\n",
       "\n",
       "    .dataframe thead th {\n",
       "        text-align: right;\n",
       "    }\n",
       "</style>\n",
       "<table border=\"1\" class=\"dataframe\">\n",
       "  <thead>\n",
       "    <tr style=\"text-align: right;\">\n",
       "      <th></th>\n",
       "      <th>Destination_PAR</th>\n",
       "      <th>Destination_RUH</th>\n",
       "      <th>Destination_SVO</th>\n",
       "    </tr>\n",
       "  </thead>\n",
       "  <tbody>\n",
       "    <tr>\n",
       "      <th>0</th>\n",
       "      <td>0</td>\n",
       "      <td>0</td>\n",
       "      <td>0</td>\n",
       "    </tr>\n",
       "    <tr>\n",
       "      <th>1</th>\n",
       "      <td>0</td>\n",
       "      <td>0</td>\n",
       "      <td>0</td>\n",
       "    </tr>\n",
       "    <tr>\n",
       "      <th>2</th>\n",
       "      <td>0</td>\n",
       "      <td>0</td>\n",
       "      <td>0</td>\n",
       "    </tr>\n",
       "    <tr>\n",
       "      <th>3</th>\n",
       "      <td>0</td>\n",
       "      <td>0</td>\n",
       "      <td>0</td>\n",
       "    </tr>\n",
       "    <tr>\n",
       "      <th>4</th>\n",
       "      <td>0</td>\n",
       "      <td>0</td>\n",
       "      <td>0</td>\n",
       "    </tr>\n",
       "  </tbody>\n",
       "</table>\n",
       "</div>"
      ],
      "text/plain": [
       "   Destination_PAR  Destination_RUH  Destination_SVO\n",
       "0                0                0                0\n",
       "1                0                0                0\n",
       "2                0                0                0\n",
       "3                0                0                0\n",
       "4                0                0                0"
      ]
     },
     "execution_count": 154,
     "metadata": {},
     "output_type": "execute_result"
    }
   ],
   "source": [
    "# performing OneHotEncoding on Destination since it's nominal categorical data\n",
    "destination = df[[\"Destination\"]]\n",
    "destination = pd.get_dummies(destination, drop_first=True)\n",
    "destination.head()"
   ]
  },
  {
   "cell_type": "code",
   "execution_count": 140,
   "id": "c851770a",
   "metadata": {},
   "outputs": [
    {
     "name": "stdout",
     "output_type": "stream",
     "text": [
      "1 stop      27466\n",
      "2 stops     18665\n",
      "3 stops      1988\n",
      "nonstop      1978\n",
      "Name: Total stops, dtype: int64\n"
     ]
    },
    {
     "data": {
      "text/plain": [
       "array(['1 stop ', '2 stops ', 'nonstop ', '3 stops '], dtype=object)"
      ]
     },
     "execution_count": 140,
     "metadata": {},
     "output_type": "execute_result"
    }
   ],
   "source": [
    "# total stops\n",
    "print(df[\"Total stops\"].value_counts())\n",
    "df[\"Total stops\"].unique()"
   ]
  },
  {
   "cell_type": "code",
   "execution_count": 141,
   "id": "935598c0",
   "metadata": {},
   "outputs": [],
   "source": [
    "# performing LabelEncoder on Total stops since it's ordinal categorical data\n",
    "df.replace({\"nonstop \":0, \"1 stop \": 1, \"2 stops \": 2, \"3 stops \":3}, inplace=True)"
   ]
  },
  {
   "cell_type": "code",
   "execution_count": 149,
   "id": "1cf55917",
   "metadata": {},
   "outputs": [],
   "source": [
    "final_df = pd.concat([df,source,destination], axis=1).reset_index(drop = True)"
   ]
  },
  {
   "cell_type": "code",
   "execution_count": 150,
   "id": "ac035b57",
   "metadata": {},
   "outputs": [
    {
     "data": {
      "text/html": [
       "<div>\n",
       "<style scoped>\n",
       "    .dataframe tbody tr th:only-of-type {\n",
       "        vertical-align: middle;\n",
       "    }\n",
       "\n",
       "    .dataframe tbody tr th {\n",
       "        vertical-align: top;\n",
       "    }\n",
       "\n",
       "    .dataframe thead th {\n",
       "        text-align: right;\n",
       "    }\n",
       "</style>\n",
       "<table border=\"1\" class=\"dataframe\">\n",
       "  <thead>\n",
       "    <tr style=\"text-align: right;\">\n",
       "      <th></th>\n",
       "      <th>Source</th>\n",
       "      <th>Destination</th>\n",
       "      <th>Duration</th>\n",
       "      <th>Total stops</th>\n",
       "      <th>Price</th>\n",
       "      <th>Date</th>\n",
       "      <th>Average Price</th>\n",
       "      <th>Source_PAR</th>\n",
       "      <th>Source_RUH</th>\n",
       "      <th>Source_SVO</th>\n",
       "      <th>Destination_PAR</th>\n",
       "      <th>Destination_RUH</th>\n",
       "      <th>Destination_SVO</th>\n",
       "    </tr>\n",
       "  </thead>\n",
       "  <tbody>\n",
       "    <tr>\n",
       "      <th>0</th>\n",
       "      <td>PAR</td>\n",
       "      <td>NYC</td>\n",
       "      <td>770</td>\n",
       "      <td>1</td>\n",
       "      <td>379.47</td>\n",
       "      <td>2022-02-01</td>\n",
       "      <td>441.343760</td>\n",
       "      <td>1</td>\n",
       "      <td>0</td>\n",
       "      <td>0</td>\n",
       "      <td>0</td>\n",
       "      <td>0</td>\n",
       "      <td>0</td>\n",
       "    </tr>\n",
       "    <tr>\n",
       "      <th>1</th>\n",
       "      <td>PAR</td>\n",
       "      <td>NYC</td>\n",
       "      <td>770</td>\n",
       "      <td>1</td>\n",
       "      <td>379.47</td>\n",
       "      <td>2022-02-01</td>\n",
       "      <td>441.343760</td>\n",
       "      <td>1</td>\n",
       "      <td>0</td>\n",
       "      <td>0</td>\n",
       "      <td>0</td>\n",
       "      <td>0</td>\n",
       "      <td>0</td>\n",
       "    </tr>\n",
       "    <tr>\n",
       "      <th>2</th>\n",
       "      <td>PAR</td>\n",
       "      <td>NYC</td>\n",
       "      <td>810</td>\n",
       "      <td>1</td>\n",
       "      <td>379.47</td>\n",
       "      <td>2022-02-01</td>\n",
       "      <td>441.343760</td>\n",
       "      <td>1</td>\n",
       "      <td>0</td>\n",
       "      <td>0</td>\n",
       "      <td>0</td>\n",
       "      <td>0</td>\n",
       "      <td>0</td>\n",
       "    </tr>\n",
       "    <tr>\n",
       "      <th>3</th>\n",
       "      <td>PAR</td>\n",
       "      <td>NYC</td>\n",
       "      <td>890</td>\n",
       "      <td>1</td>\n",
       "      <td>379.47</td>\n",
       "      <td>2022-02-01</td>\n",
       "      <td>441.343760</td>\n",
       "      <td>1</td>\n",
       "      <td>0</td>\n",
       "      <td>0</td>\n",
       "      <td>0</td>\n",
       "      <td>0</td>\n",
       "      <td>0</td>\n",
       "    </tr>\n",
       "    <tr>\n",
       "      <th>4</th>\n",
       "      <td>PAR</td>\n",
       "      <td>NYC</td>\n",
       "      <td>1030</td>\n",
       "      <td>1</td>\n",
       "      <td>379.47</td>\n",
       "      <td>2022-02-01</td>\n",
       "      <td>441.343760</td>\n",
       "      <td>1</td>\n",
       "      <td>0</td>\n",
       "      <td>0</td>\n",
       "      <td>0</td>\n",
       "      <td>0</td>\n",
       "      <td>0</td>\n",
       "    </tr>\n",
       "    <tr>\n",
       "      <th>...</th>\n",
       "      <td>...</td>\n",
       "      <td>...</td>\n",
       "      <td>...</td>\n",
       "      <td>...</td>\n",
       "      <td>...</td>\n",
       "      <td>...</td>\n",
       "      <td>...</td>\n",
       "      <td>...</td>\n",
       "      <td>...</td>\n",
       "      <td>...</td>\n",
       "      <td>...</td>\n",
       "      <td>...</td>\n",
       "      <td>...</td>\n",
       "    </tr>\n",
       "    <tr>\n",
       "      <th>50092</th>\n",
       "      <td>NYC</td>\n",
       "      <td>RUH</td>\n",
       "      <td>1300</td>\n",
       "      <td>2</td>\n",
       "      <td>930.40</td>\n",
       "      <td>2022-04-13</td>\n",
       "      <td>838.732500</td>\n",
       "      <td>0</td>\n",
       "      <td>0</td>\n",
       "      <td>0</td>\n",
       "      <td>0</td>\n",
       "      <td>1</td>\n",
       "      <td>0</td>\n",
       "    </tr>\n",
       "    <tr>\n",
       "      <th>50093</th>\n",
       "      <td>NYC</td>\n",
       "      <td>RUH</td>\n",
       "      <td>1420</td>\n",
       "      <td>2</td>\n",
       "      <td>1018.40</td>\n",
       "      <td>2022-04-13</td>\n",
       "      <td>1972.813714</td>\n",
       "      <td>0</td>\n",
       "      <td>0</td>\n",
       "      <td>0</td>\n",
       "      <td>0</td>\n",
       "      <td>1</td>\n",
       "      <td>0</td>\n",
       "    </tr>\n",
       "    <tr>\n",
       "      <th>50094</th>\n",
       "      <td>NYC</td>\n",
       "      <td>RUH</td>\n",
       "      <td>1415</td>\n",
       "      <td>2</td>\n",
       "      <td>1049.87</td>\n",
       "      <td>2022-04-13</td>\n",
       "      <td>1133.548015</td>\n",
       "      <td>0</td>\n",
       "      <td>0</td>\n",
       "      <td>0</td>\n",
       "      <td>0</td>\n",
       "      <td>1</td>\n",
       "      <td>0</td>\n",
       "    </tr>\n",
       "    <tr>\n",
       "      <th>50095</th>\n",
       "      <td>NYC</td>\n",
       "      <td>RUH</td>\n",
       "      <td>1100</td>\n",
       "      <td>2</td>\n",
       "      <td>1053.60</td>\n",
       "      <td>2022-04-13</td>\n",
       "      <td>1023.900221</td>\n",
       "      <td>0</td>\n",
       "      <td>0</td>\n",
       "      <td>0</td>\n",
       "      <td>0</td>\n",
       "      <td>1</td>\n",
       "      <td>0</td>\n",
       "    </tr>\n",
       "    <tr>\n",
       "      <th>50096</th>\n",
       "      <td>NYC</td>\n",
       "      <td>RUH</td>\n",
       "      <td>1115</td>\n",
       "      <td>3</td>\n",
       "      <td>1139.73</td>\n",
       "      <td>2022-04-13</td>\n",
       "      <td>1023.714222</td>\n",
       "      <td>0</td>\n",
       "      <td>0</td>\n",
       "      <td>0</td>\n",
       "      <td>0</td>\n",
       "      <td>1</td>\n",
       "      <td>0</td>\n",
       "    </tr>\n",
       "  </tbody>\n",
       "</table>\n",
       "<p>50097 rows × 13 columns</p>\n",
       "</div>"
      ],
      "text/plain": [
       "      Source Destination  Duration  Total stops    Price       Date  \\\n",
       "0        PAR         NYC       770            1   379.47 2022-02-01   \n",
       "1        PAR         NYC       770            1   379.47 2022-02-01   \n",
       "2        PAR         NYC       810            1   379.47 2022-02-01   \n",
       "3        PAR         NYC       890            1   379.47 2022-02-01   \n",
       "4        PAR         NYC      1030            1   379.47 2022-02-01   \n",
       "...      ...         ...       ...          ...      ...        ...   \n",
       "50092    NYC         RUH      1300            2   930.40 2022-04-13   \n",
       "50093    NYC         RUH      1420            2  1018.40 2022-04-13   \n",
       "50094    NYC         RUH      1415            2  1049.87 2022-04-13   \n",
       "50095    NYC         RUH      1100            2  1053.60 2022-04-13   \n",
       "50096    NYC         RUH      1115            3  1139.73 2022-04-13   \n",
       "\n",
       "       Average Price  Source_PAR  Source_RUH  Source_SVO  Destination_PAR  \\\n",
       "0         441.343760           1           0           0                0   \n",
       "1         441.343760           1           0           0                0   \n",
       "2         441.343760           1           0           0                0   \n",
       "3         441.343760           1           0           0                0   \n",
       "4         441.343760           1           0           0                0   \n",
       "...              ...         ...         ...         ...              ...   \n",
       "50092     838.732500           0           0           0                0   \n",
       "50093    1972.813714           0           0           0                0   \n",
       "50094    1133.548015           0           0           0                0   \n",
       "50095    1023.900221           0           0           0                0   \n",
       "50096    1023.714222           0           0           0                0   \n",
       "\n",
       "       Destination_RUH  Destination_SVO  \n",
       "0                    0                0  \n",
       "1                    0                0  \n",
       "2                    0                0  \n",
       "3                    0                0  \n",
       "4                    0                0  \n",
       "...                ...              ...  \n",
       "50092                1                0  \n",
       "50093                1                0  \n",
       "50094                1                0  \n",
       "50095                1                0  \n",
       "50096                1                0  \n",
       "\n",
       "[50097 rows x 13 columns]"
      ]
     },
     "execution_count": 150,
     "metadata": {},
     "output_type": "execute_result"
    }
   ],
   "source": [
    "final_df"
   ]
  },
  {
   "cell_type": "code",
   "execution_count": 151,
   "id": "1c2b841f",
   "metadata": {},
   "outputs": [],
   "source": [
    "# drop date since it'll not be used as a feature\n",
    "final_df.drop([\"Source\",\"Destination\",\"Date\"], axis=1, inplace=True)"
   ]
  },
  {
   "cell_type": "code",
   "execution_count": 152,
   "id": "4050cb8b",
   "metadata": {},
   "outputs": [
    {
     "data": {
      "text/html": [
       "<div>\n",
       "<style scoped>\n",
       "    .dataframe tbody tr th:only-of-type {\n",
       "        vertical-align: middle;\n",
       "    }\n",
       "\n",
       "    .dataframe tbody tr th {\n",
       "        vertical-align: top;\n",
       "    }\n",
       "\n",
       "    .dataframe thead th {\n",
       "        text-align: right;\n",
       "    }\n",
       "</style>\n",
       "<table border=\"1\" class=\"dataframe\">\n",
       "  <thead>\n",
       "    <tr style=\"text-align: right;\">\n",
       "      <th></th>\n",
       "      <th>Duration</th>\n",
       "      <th>Total stops</th>\n",
       "      <th>Price</th>\n",
       "      <th>Average Price</th>\n",
       "      <th>Source_PAR</th>\n",
       "      <th>Source_RUH</th>\n",
       "      <th>Source_SVO</th>\n",
       "      <th>Destination_PAR</th>\n",
       "      <th>Destination_RUH</th>\n",
       "      <th>Destination_SVO</th>\n",
       "    </tr>\n",
       "  </thead>\n",
       "  <tbody>\n",
       "    <tr>\n",
       "      <th>0</th>\n",
       "      <td>770</td>\n",
       "      <td>1</td>\n",
       "      <td>379.47</td>\n",
       "      <td>441.343760</td>\n",
       "      <td>1</td>\n",
       "      <td>0</td>\n",
       "      <td>0</td>\n",
       "      <td>0</td>\n",
       "      <td>0</td>\n",
       "      <td>0</td>\n",
       "    </tr>\n",
       "    <tr>\n",
       "      <th>1</th>\n",
       "      <td>770</td>\n",
       "      <td>1</td>\n",
       "      <td>379.47</td>\n",
       "      <td>441.343760</td>\n",
       "      <td>1</td>\n",
       "      <td>0</td>\n",
       "      <td>0</td>\n",
       "      <td>0</td>\n",
       "      <td>0</td>\n",
       "      <td>0</td>\n",
       "    </tr>\n",
       "    <tr>\n",
       "      <th>2</th>\n",
       "      <td>810</td>\n",
       "      <td>1</td>\n",
       "      <td>379.47</td>\n",
       "      <td>441.343760</td>\n",
       "      <td>1</td>\n",
       "      <td>0</td>\n",
       "      <td>0</td>\n",
       "      <td>0</td>\n",
       "      <td>0</td>\n",
       "      <td>0</td>\n",
       "    </tr>\n",
       "    <tr>\n",
       "      <th>3</th>\n",
       "      <td>890</td>\n",
       "      <td>1</td>\n",
       "      <td>379.47</td>\n",
       "      <td>441.343760</td>\n",
       "      <td>1</td>\n",
       "      <td>0</td>\n",
       "      <td>0</td>\n",
       "      <td>0</td>\n",
       "      <td>0</td>\n",
       "      <td>0</td>\n",
       "    </tr>\n",
       "    <tr>\n",
       "      <th>4</th>\n",
       "      <td>1030</td>\n",
       "      <td>1</td>\n",
       "      <td>379.47</td>\n",
       "      <td>441.343760</td>\n",
       "      <td>1</td>\n",
       "      <td>0</td>\n",
       "      <td>0</td>\n",
       "      <td>0</td>\n",
       "      <td>0</td>\n",
       "      <td>0</td>\n",
       "    </tr>\n",
       "    <tr>\n",
       "      <th>...</th>\n",
       "      <td>...</td>\n",
       "      <td>...</td>\n",
       "      <td>...</td>\n",
       "      <td>...</td>\n",
       "      <td>...</td>\n",
       "      <td>...</td>\n",
       "      <td>...</td>\n",
       "      <td>...</td>\n",
       "      <td>...</td>\n",
       "      <td>...</td>\n",
       "    </tr>\n",
       "    <tr>\n",
       "      <th>50092</th>\n",
       "      <td>1300</td>\n",
       "      <td>2</td>\n",
       "      <td>930.40</td>\n",
       "      <td>838.732500</td>\n",
       "      <td>0</td>\n",
       "      <td>0</td>\n",
       "      <td>0</td>\n",
       "      <td>0</td>\n",
       "      <td>1</td>\n",
       "      <td>0</td>\n",
       "    </tr>\n",
       "    <tr>\n",
       "      <th>50093</th>\n",
       "      <td>1420</td>\n",
       "      <td>2</td>\n",
       "      <td>1018.40</td>\n",
       "      <td>1972.813714</td>\n",
       "      <td>0</td>\n",
       "      <td>0</td>\n",
       "      <td>0</td>\n",
       "      <td>0</td>\n",
       "      <td>1</td>\n",
       "      <td>0</td>\n",
       "    </tr>\n",
       "    <tr>\n",
       "      <th>50094</th>\n",
       "      <td>1415</td>\n",
       "      <td>2</td>\n",
       "      <td>1049.87</td>\n",
       "      <td>1133.548015</td>\n",
       "      <td>0</td>\n",
       "      <td>0</td>\n",
       "      <td>0</td>\n",
       "      <td>0</td>\n",
       "      <td>1</td>\n",
       "      <td>0</td>\n",
       "    </tr>\n",
       "    <tr>\n",
       "      <th>50095</th>\n",
       "      <td>1100</td>\n",
       "      <td>2</td>\n",
       "      <td>1053.60</td>\n",
       "      <td>1023.900221</td>\n",
       "      <td>0</td>\n",
       "      <td>0</td>\n",
       "      <td>0</td>\n",
       "      <td>0</td>\n",
       "      <td>1</td>\n",
       "      <td>0</td>\n",
       "    </tr>\n",
       "    <tr>\n",
       "      <th>50096</th>\n",
       "      <td>1115</td>\n",
       "      <td>3</td>\n",
       "      <td>1139.73</td>\n",
       "      <td>1023.714222</td>\n",
       "      <td>0</td>\n",
       "      <td>0</td>\n",
       "      <td>0</td>\n",
       "      <td>0</td>\n",
       "      <td>1</td>\n",
       "      <td>0</td>\n",
       "    </tr>\n",
       "  </tbody>\n",
       "</table>\n",
       "<p>50097 rows × 10 columns</p>\n",
       "</div>"
      ],
      "text/plain": [
       "       Duration  Total stops    Price  Average Price  Source_PAR  Source_RUH  \\\n",
       "0           770            1   379.47     441.343760           1           0   \n",
       "1           770            1   379.47     441.343760           1           0   \n",
       "2           810            1   379.47     441.343760           1           0   \n",
       "3           890            1   379.47     441.343760           1           0   \n",
       "4          1030            1   379.47     441.343760           1           0   \n",
       "...         ...          ...      ...            ...         ...         ...   \n",
       "50092      1300            2   930.40     838.732500           0           0   \n",
       "50093      1420            2  1018.40    1972.813714           0           0   \n",
       "50094      1415            2  1049.87    1133.548015           0           0   \n",
       "50095      1100            2  1053.60    1023.900221           0           0   \n",
       "50096      1115            3  1139.73    1023.714222           0           0   \n",
       "\n",
       "       Source_SVO  Destination_PAR  Destination_RUH  Destination_SVO  \n",
       "0               0                0                0                0  \n",
       "1               0                0                0                0  \n",
       "2               0                0                0                0  \n",
       "3               0                0                0                0  \n",
       "4               0                0                0                0  \n",
       "...           ...              ...              ...              ...  \n",
       "50092           0                0                1                0  \n",
       "50093           0                0                1                0  \n",
       "50094           0                0                1                0  \n",
       "50095           0                0                1                0  \n",
       "50096           0                0                1                0  \n",
       "\n",
       "[50097 rows x 10 columns]"
      ]
     },
     "execution_count": 152,
     "metadata": {},
     "output_type": "execute_result"
    }
   ],
   "source": [
    "final_df"
   ]
  },
  {
   "cell_type": "code",
   "execution_count": 155,
   "id": "65dfc2eb",
   "metadata": {},
   "outputs": [
    {
     "data": {
      "text/plain": [
       "(50097, 10)"
      ]
     },
     "execution_count": 155,
     "metadata": {},
     "output_type": "execute_result"
    }
   ],
   "source": [
    "final_df.shape"
   ]
  },
  {
   "cell_type": "code",
   "execution_count": 156,
   "id": "4db701a7",
   "metadata": {},
   "outputs": [
    {
     "data": {
      "text/plain": [
       "Duration           0\n",
       "Total stops        0\n",
       "Price              0\n",
       "Average Price      0\n",
       "Source_PAR         0\n",
       "Source_RUH         0\n",
       "Source_SVO         0\n",
       "Destination_PAR    0\n",
       "Destination_RUH    0\n",
       "Destination_SVO    0\n",
       "dtype: int64"
      ]
     },
     "execution_count": 156,
     "metadata": {},
     "output_type": "execute_result"
    }
   ],
   "source": [
    "final_df.isnull().sum()"
   ]
  },
  {
   "cell_type": "markdown",
   "id": "b244184c",
   "metadata": {},
   "source": [
    "## Features: <a class=\"anchor\" id=\"features\"></a>"
   ]
  },
  {
   "cell_type": "markdown",
   "id": "f39fd1cb",
   "metadata": {},
   "source": [
    "#### After constructing the final dataframe with all numerical values, now we can analyze the features that will be used for the regressions models"
   ]
  },
  {
   "cell_type": "code",
   "execution_count": 157,
   "id": "b6ad32ed",
   "metadata": {},
   "outputs": [
    {
     "data": {
      "text/plain": [
       "Index(['Duration', 'Total stops', 'Price', 'Average Price', 'Source_PAR',\n",
       "       'Source_RUH', 'Source_SVO', 'Destination_PAR', 'Destination_RUH',\n",
       "       'Destination_SVO'],\n",
       "      dtype='object')"
      ]
     },
     "execution_count": 157,
     "metadata": {},
     "output_type": "execute_result"
    }
   ],
   "source": [
    "final_df.columns"
   ]
  },
  {
   "cell_type": "code",
   "execution_count": 159,
   "id": "1d33c3c3",
   "metadata": {},
   "outputs": [],
   "source": [
    "X = final_df[['Duration', 'Total stops', 'Average Price', 'Source_PAR',\n",
    "       'Source_RUH', 'Source_SVO', 'Destination_PAR', 'Destination_RUH',\n",
    "       'Destination_SVO']]\n",
    "\n",
    "y = final_df[\"Price\"]"
   ]
  },
  {
   "cell_type": "code",
   "execution_count": 160,
   "id": "720cfefd",
   "metadata": {},
   "outputs": [
    {
     "data": {
      "image/png": "[encoded data removed]",
      "text/plain": [
       "<Figure size 1296x1296 with 2 Axes>"
      ]
     },
     "metadata": {},
     "output_type": "display_data"
    }
   ],
   "source": [
    "plt.figure(figsize = (18,18))\n",
    "\n",
    "sns.heatmap(final_df.corr(),annot= True, cmap = \"coolwarm\")\n",
    "\n",
    "plt.show()"
   ]
  },
  {
   "cell_type": "code",
   "execution_count": 161,
   "id": "ad192d2d",
   "metadata": {},
   "outputs": [
    {
     "data": {
      "text/plain": [
       "array([0.03999422, 0.01570177, 0.74317697, 0.08991898, 0.00889242,\n",
       "       0.01328784, 0.02215941, 0.05354494, 0.01332344])"
      ]
     },
     "execution_count": 161,
     "metadata": {},
     "output_type": "execute_result"
    }
   ],
   "source": [
    "# getting feature importance to the target variable \"Price\".\n",
    "selection =ExtraTreesRegressor()\n",
    "selection.fit(X,y)\n",
    "selection.feature_importances_"
   ]
  },
  {
   "cell_type": "code",
   "execution_count": 163,
   "id": "da98cd80",
   "metadata": {
    "scrolled": false
   },
   "outputs": [
    {
     "data": {
      "image/png": "[encoded data removed]",
      "text/plain": [
       "<Figure size 864x576 with 1 Axes>"
      ]
     },
     "metadata": {},
     "output_type": "display_data"
    }
   ],
   "source": [
    "# plotting graph of important features\n",
    "plt.figure(figsize = (12,8))\n",
    "feat_importances = pd.Series(selection.feature_importances_,index = X.columns)\n",
    "feat_importances.nlargest(20).plot(kind=\"barh\")\n",
    "plt.show()"
   ]
  },
  {
   "cell_type": "markdown",
   "id": "ff0106f5",
   "metadata": {},
   "source": [
    "## Modeling: <a class=\"anchor\" id=\"modeling\"></a>"
   ]
  },
  {
   "cell_type": "markdown",
   "id": "e742a8d4",
   "metadata": {},
   "source": [
    "### Splitting the data"
   ]
  },
  {
   "cell_type": "code",
   "execution_count": 164,
   "id": "bb03f631",
   "metadata": {},
   "outputs": [],
   "source": [
    "# 60% Train - 20% Val - 20% Test\n",
    "\n",
    "X_train_or, X_test, y_train_or, y_test = train_test_split(X, y, test_size=0.2)\n",
    "X_train, X_val, y_train, y_val = train_test_split(X_train_or, y_train_or, test_size=0.25)"
   ]
  },
  {
   "cell_type": "markdown",
   "id": "156f3ea4",
   "metadata": {},
   "source": [
    "### Defining a function to get metrics for val set"
   ]
  },
  {
   "cell_type": "code",
   "execution_count": 165,
   "id": "441256e0",
   "metadata": {},
   "outputs": [],
   "source": [
    "def get_metrics(model):\n",
    "    print(f'Train score {model.score(X_train, y_train)}')\n",
    "    print(f'Val score {model.score(X_val, y_val)}')\n",
    "    print(\"MAE:\" , metrics.mean_absolute_error(y_val,model.predict(X_val)))\n",
    "    print(\"MSE:\" , metrics.mean_squared_error(y_val,model.predict(X_val)))\n",
    "    print(\"RMSE:\" , np.sqrt(metrics.mean_squared_error(y_val,model.predict(X_val))))"
   ]
  },
  {
   "cell_type": "markdown",
   "id": "0ae28b62",
   "metadata": {},
   "source": [
    "### Baseline Linear Regression"
   ]
  },
  {
   "cell_type": "code",
   "execution_count": 167,
   "id": "61e08ea1",
   "metadata": {},
   "outputs": [
    {
     "name": "stdout",
     "output_type": "stream",
     "text": [
      "Train score 0.8040357223322144\n",
      "Val score 0.7891035984538434\n",
      "MAE: 225.09235539537735\n",
      "MSE: 152995.68380136558\n",
      "RMSE: 391.14662698451787\n"
     ]
    }
   ],
   "source": [
    "lr = LinearRegression()\n",
    "lr.fit(X_train, y_train)\n",
    "score = lr.score(X_val, y_val)\n",
    "get_metrics(lr)"
   ]
  },
  {
   "cell_type": "markdown",
   "id": "796b82ff",
   "metadata": {},
   "source": [
    "### Polynomial "
   ]
  },
  {
   "cell_type": "code",
   "execution_count": 168,
   "id": "41a9f354",
   "metadata": {},
   "outputs": [
    {
     "name": "stdout",
     "output_type": "stream",
     "text": [
      "--------------------\n",
      "Degree 1\n",
      "Train score 0.8040357223322144\n",
      "Val score 0.7891035984538438\n",
      "MAE: 225.0923553953841\n",
      "MSE: 152995.68380136523\n",
      "RMSE: 391.14662698451747\n",
      "--------------------\n",
      "Degree 2\n",
      "Train score 0.8569208072557248\n",
      "Val score 0.8475711159764316\n",
      "MAE: 179.19068173029146\n",
      "MSE: 110580.17667106038\n",
      "RMSE: 332.5359780099897\n",
      "--------------------\n",
      "Degree 3\n",
      "Train score 0.8770210319280359\n",
      "Val score 0.8667875960721851\n",
      "MAE: 161.85095797669118\n",
      "MSE: 96639.5001542935\n",
      "RMSE: 310.8689436953996\n",
      "--------------------\n",
      "Degree 4\n",
      "Train score 0.8829392209905675\n",
      "Val score 0.8723399701473494\n",
      "MAE: 152.20393140466717\n",
      "MSE: 92611.50696843152\n",
      "RMSE: 304.321387628986\n",
      "--------------------\n",
      "Degree 5\n",
      "Train score 0.8879647071090535\n",
      "Val score 0.8712998916720526\n",
      "MAE: 149.72369720260875\n",
      "MSE: 93366.03628409792\n",
      "RMSE: 305.55856440966915\n"
     ]
    }
   ],
   "source": [
    "for degree in [1,2,3,4,5]:\n",
    "    poly = make_pipeline(PolynomialFeatures(degree), LinearRegression())\n",
    "    poly.fit(X_train, y_train)\n",
    "    print(\"-\"*20)\n",
    "    print(\"Degree\", degree)\n",
    "    get_metrics(poly)"
   ]
  },
  {
   "cell_type": "markdown",
   "id": "0ca27f6e",
   "metadata": {},
   "source": [
    "### Lasso"
   ]
  },
  {
   "cell_type": "code",
   "execution_count": 169,
   "id": "dffff082",
   "metadata": {},
   "outputs": [
    {
     "name": "stdout",
     "output_type": "stream",
     "text": [
      "Train score 0.8038454319902063\n",
      "Val score 0.7889638512580056\n",
      "MAE: 223.49066191496019\n",
      "MSE: 153097.06399386658\n",
      "RMSE: 391.2761991149814\n"
     ]
    }
   ],
   "source": [
    "lasso_model = Lasso()\n",
    "lasso_model.fit(X_train, y_train)\n",
    "get_metrics(lasso_model)"
   ]
  },
  {
   "cell_type": "markdown",
   "id": "eb6de57d",
   "metadata": {},
   "source": [
    "### Ridge"
   ]
  },
  {
   "cell_type": "code",
   "execution_count": 170,
   "id": "04e98a59",
   "metadata": {},
   "outputs": [
    {
     "name": "stdout",
     "output_type": "stream",
     "text": [
      "Train score 0.8040357065848055\n",
      "Val score 0.7891037101749157\n",
      "MAE: 225.07772121553117\n",
      "MSE: 152995.6027528426\n",
      "RMSE: 391.1465233807436\n"
     ]
    }
   ],
   "source": [
    "ridge_model = Ridge()\n",
    "ridge_model.fit(X_train, y_train)\n",
    "get_metrics(ridge_model)"
   ]
  },
  {
   "cell_type": "markdown",
   "id": "9c33c050",
   "metadata": {},
   "source": [
    "### ElasticNet"
   ]
  },
  {
   "cell_type": "code",
   "execution_count": 171,
   "id": "9206bad8",
   "metadata": {
    "scrolled": true
   },
   "outputs": [
    {
     "name": "stdout",
     "output_type": "stream",
     "text": [
      "Train score 0.7895996502819659\n",
      "Val score 0.7752654436876839\n",
      "MAE: 224.4110277527439\n",
      "MSE: 163034.6315286663\n",
      "RMSE: 403.77547167784513\n"
     ]
    }
   ],
   "source": [
    "EN_model = ElasticNet(alpha=1)\n",
    "EN_model.fit(X_train, y_train)\n",
    "EN_model.score(X_val, y_val)\n",
    "get_metrics(EN_model)"
   ]
  },
  {
   "cell_type": "markdown",
   "id": "d4cd1ed9",
   "metadata": {},
   "source": [
    "### Random Forest"
   ]
  },
  {
   "cell_type": "code",
   "execution_count": 172,
   "id": "f37e3449",
   "metadata": {},
   "outputs": [
    {
     "name": "stdout",
     "output_type": "stream",
     "text": [
      "Train score 0.9648778537711422\n",
      "Val score 0.9448134490695079\n",
      "MAE: 61.717733027545194\n",
      "MSE: 40035.31608101726\n",
      "RMSE: 200.0882707232417\n"
     ]
    }
   ],
   "source": [
    "rf = RandomForestRegressor()\n",
    "rf.fit(X_train,y_train)\n",
    "get_metrics(rf)"
   ]
  },
  {
   "cell_type": "markdown",
   "id": "4212c44a",
   "metadata": {},
   "source": [
    "### Feature Scaling"
   ]
  },
  {
   "cell_type": "code",
   "execution_count": 173,
   "id": "a2d8a503",
   "metadata": {},
   "outputs": [],
   "source": [
    "scaler = StandardScaler()\n",
    "\n",
    "X_train_scaled = scaler.fit_transform(X_train.values)\n",
    "X_val_scaled = scaler.transform(X_val.values)\n",
    "X_test_scaled = scaler.transform(X_test.values)"
   ]
  },
  {
   "cell_type": "code",
   "execution_count": 174,
   "id": "e5e64211",
   "metadata": {},
   "outputs": [
    {
     "name": "stdout",
     "output_type": "stream",
     "text": [
      "LR\n",
      "Train score 0.8040357223322144\n",
      "Val score 0.7891035984538433\n",
      "MAE: 225.09235539537684\n",
      "MSE: 152995.68380136567\n",
      "RMSE: 391.146626984518\n",
      "--------------------------------------------------\n",
      "Polynomial - Degree 1\n",
      "Train score -0.3079480631703013\n",
      "Val score -0.3153015545186666\n",
      "MAE: 756.619594657905\n",
      "MSE: 954191.0590377726\n",
      "RMSE: 976.8270363978326\n",
      "--------------------------------------------------\n",
      "Polynomial - Degree 2\n",
      "Train score -6.619866701696714\n",
      "Val score -6.708250742830492\n",
      "MAE: 1819.2993972374343\n",
      "MSE: 5591983.005236949\n",
      "RMSE: 2364.737407247779\n",
      "--------------------------------------------------\n",
      "Polynomial - Degree 3\n",
      "Train score -6.396139020230291\n",
      "Val score -6.597515038614633\n",
      "MAE: 1978.6373777102278\n",
      "MSE: 5511649.321667562\n",
      "RMSE: 2347.6902099015456\n",
      "--------------------------------------------------\n",
      "Polynomial - Degree 4\n",
      "Train score -67.38613658531676\n",
      "Val score -65.94440159195507\n",
      "MAE: 5158.441261042131\n",
      "MSE: 48565098.4234209\n",
      "RMSE: 6968.8663657312945\n",
      "--------------------------------------------------\n",
      "Polynomial - Degree 5\n",
      "Train score -1.2998648856939954\n",
      "Val score -1.3170926486628711\n",
      "MAE: 977.4048403689628\n",
      "MSE: 1680944.632598231\n",
      "RMSE: 1296.512488408126\n",
      "--------------------------------------------------\n",
      "Lasso\n",
      "Train score 0.8040183311451377\n",
      "Val score 0.7891286832351017\n",
      "MAE: 224.60280304137635\n",
      "MSE: 152977.48594102522\n",
      "RMSE: 391.12336409504513\n",
      "--------------------------------------------------\n",
      "Ridge\n",
      "Train score 0.8040357214700532\n",
      "Val score 0.7891039650109529\n",
      "MAE: 225.0937616466228\n",
      "MSE: 152995.41788096476\n",
      "RMSE: 391.14628706018004\n",
      "--------------------------------------------------\n",
      "ElasticNet\n",
      "Train score 0.7354476290670592\n",
      "Val score 0.7243019152118472\n",
      "MAE: 304.4466319557438\n",
      "MSE: 200006.3381624778\n",
      "RMSE: 447.2206817248927\n",
      "--------------------------------------------------\n",
      "Random Forest\n",
      "Train score -1.0693924886375732\n",
      "Val score -1.0832919574956343\n",
      "MAE: 885.6332189325535\n",
      "MSE: 1511332.9353093393\n",
      "RMSE: 1229.362816791422\n"
     ]
    }
   ],
   "source": [
    "# function to get metrics for scaled features\n",
    "def scaled_metrics(model):\n",
    "    print(f'Train score {model.score(X_train_scaled, y_train)}')\n",
    "    print(f'Val score {model.score(X_val_scaled, y_val)}')\n",
    "    print(\"MAE:\" , metrics.mean_absolute_error(y_val,model.predict(X_val_scaled)))\n",
    "    print(\"MSE:\" , metrics.mean_squared_error(y_val,model.predict(X_val_scaled)))\n",
    "    print(\"RMSE:\" , np.sqrt(metrics.mean_squared_error(y_val,model.predict(X_val_scaled))))\n",
    "\n",
    "    \n",
    "## Baseline: Linear Regression\n",
    "\n",
    "lr = LinearRegression()\n",
    "lr.fit(X_train_scaled, y_train)\n",
    "score = lr.score(X_val_scaled, y_val)\n",
    "print(\"LR\")\n",
    "scaled_metrics(lr)\n",
    "print(\"-\"*50)\n",
    "\n",
    "## Polynomial\n",
    "\n",
    "for degree in [1,2,3,4,5]:\n",
    "    poly = make_pipeline(PolynomialFeatures(degree), LinearRegression())\n",
    "    poly.fit(X_train, y_train)\n",
    "    print(\"Polynomial - Degree\", degree)\n",
    "    scaled_metrics(poly)\n",
    "    print(\"-\"*50)\n",
    "\n",
    "## Lasso\n",
    "\n",
    "lasso_model = Lasso()\n",
    "lasso_model.fit(X_train_scaled, y_train)\n",
    "print(\"Lasso\")\n",
    "scaled_metrics(lasso_model)\n",
    "print(\"-\"*50)\n",
    "\n",
    "## Ridge\n",
    "\n",
    "ridge_model = Ridge()\n",
    "ridge_model.fit(X_train_scaled, y_train)\n",
    "print(\"Ridge\")\n",
    "scaled_metrics(ridge_model)\n",
    "print(\"-\"*50)\n",
    "\n",
    "## ElasticNet\n",
    "\n",
    "EN_model = ElasticNet(alpha=1)\n",
    "EN_model.fit(X_train_scaled, y_train)\n",
    "EN_model.score(X_val_scaled, y_val)\n",
    "print(\"ElasticNet\")\n",
    "scaled_metrics(EN_model)\n",
    "print(\"-\"*50)\n",
    "\n",
    "## Random Forest\n",
    "rf = RandomForestRegressor()\n",
    "rf.fit(X_train,y_train)\n",
    "print(\"Random Forest\")\n",
    "scaled_metrics(rf)"
   ]
  },
  {
   "cell_type": "markdown",
   "id": "75cc932b",
   "metadata": {},
   "source": [
    "#### Feature scaling was of no use, it did not improve anything.\n",
    "\n"
   ]
  },
  {
   "cell_type": "markdown",
   "id": "3f89831d",
   "metadata": {},
   "source": [
    "**<br>From the above analysis, we can see that the random forest model performed the best with:</br>**\n",
    "\n",
    "**Train score 0.9648778537711422**\n",
    "**<br>Val score 0.9448134490695079</br>**\n",
    "**<br>MAE: 61.717733027545194</br>**\n",
    "**<br>MSE: 40035.31608101726</br>**\n",
    "**<br>RMSE: 200.0882707232417</br>**\n",
    "\n",
    "**So, we'll select it as our model.**"
   ]
  },
  {
   "cell_type": "code",
   "execution_count": 175,
   "id": "4b048733",
   "metadata": {},
   "outputs": [
    {
     "name": "stdout",
     "output_type": "stream",
     "text": [
      "Train score 0.963236185218782\n",
      "Test score 0.9458897010690771\n",
      "MAE: 61.86501612022038\n",
      "MSE: 40409.86746202512\n",
      "RMSE: 201.02205715300278\n"
     ]
    }
   ],
   "source": [
    "# retraining the random forest model on train + val, and scoring on test\n",
    "\n",
    "X_train_val = pd.concat([X_train,X_val])\n",
    "y_train_val = pd.concat([y_train,y_val])\n",
    "\n",
    "rf = RandomForestRegressor()\n",
    "rf.fit(X_train_val,y_train_val)\n",
    "\n",
    "print(f'Train score {rf.score(X_train_val, y_train_val)}')\n",
    "print(f'Test score {rf.score(X_test, y_test)}')\n",
    "print(\"MAE:\" , metrics.mean_absolute_error(y_test,rf.predict(X_test)))\n",
    "print(\"MSE:\" , metrics.mean_squared_error(y_test,rf.predict(X_test)))\n",
    "print(\"RMSE:\" , np.sqrt(metrics.mean_squared_error(y_test,rf.predict(X_test))))"
   ]
  },
  {
   "cell_type": "code",
   "execution_count": 176,
   "id": "af4b6f83",
   "metadata": {},
   "outputs": [],
   "source": [
    "y_train_val_pred = rf.predict(X_train_val)\n",
    "y_test_pred = rf.predict(X_test)"
   ]
  },
  {
   "cell_type": "code",
   "execution_count": 177,
   "id": "c6a4e708",
   "metadata": {},
   "outputs": [
    {
     "data": {
      "image/png": "[encoded data removed]",
      "text/plain": [
       "<Figure size 432x288 with 1 Axes>"
      ]
     },
     "metadata": {},
     "output_type": "display_data"
    }
   ],
   "source": [
    "plt.scatter(y_test,y_test_pred,alpha =0.2,color=\"DarkBlue\")\n",
    "plt.title('Actual vs. Predicted Airline Prices')\n",
    "plt.xlabel('Predicted Airline Prices')\n",
    "plt.ylabel('Actual Airline Prices');"
   ]
  },
  {
   "cell_type": "markdown",
   "id": "421d1f3c",
   "metadata": {},
   "source": [
    "### Hyperparameter Tuning"
   ]
  },
  {
   "cell_type": "code",
   "execution_count": 178,
   "id": "c8711a0b",
   "metadata": {},
   "outputs": [],
   "source": [
    "# randomized search CV\n",
    "\n",
    "n_estimators = [int(x) for x in np.linspace(start = 100, stop = 1200, num = 12)]\n",
    "max_features = ['auto', 'sqrt']\n",
    "max_depth = [int(x) for x in np.linspace(5, 30, num = 6)]\n",
    "min_samples_split = [2, 5, 10, 15, 100]\n",
    "min_samples_leaf = [1, 2, 5, 10]"
   ]
  },
  {
   "cell_type": "code",
   "execution_count": 179,
   "id": "f339bb12",
   "metadata": {},
   "outputs": [],
   "source": [
    "# create the random grid\n",
    "\n",
    "random_grid = {'n_estimators': n_estimators,\n",
    "               'max_features': max_features,\n",
    "               'max_depth': max_depth,\n",
    "               'min_samples_split': min_samples_split,\n",
    "               'min_samples_leaf': min_samples_leaf}"
   ]
  },
  {
   "cell_type": "code",
   "execution_count": 180,
   "id": "dc57bc25",
   "metadata": {},
   "outputs": [],
   "source": [
    "rf_random = RandomizedSearchCV(estimator = rf, param_distributions = random_grid,scoring='neg_mean_squared_error', n_iter = 10, cv = 5, verbose=2, n_jobs = 1)"
   ]
  },
  {
   "cell_type": "code",
   "execution_count": 181,
   "id": "af883f54",
   "metadata": {
    "scrolled": true
   },
   "outputs": [
    {
     "name": "stdout",
     "output_type": "stream",
     "text": [
      "Fitting 5 folds for each of 10 candidates, totalling 50 fits\n",
      "[CV] END max_depth=25, max_features=auto, min_samples_leaf=2, min_samples_split=5, n_estimators=1000; total time=  21.6s\n",
      "[CV] END max_depth=25, max_features=auto, min_samples_leaf=2, min_samples_split=5, n_estimators=1000; total time=  21.5s\n",
      "[CV] END max_depth=25, max_features=auto, min_samples_leaf=2, min_samples_split=5, n_estimators=1000; total time=  22.4s\n",
      "[CV] END max_depth=25, max_features=auto, min_samples_leaf=2, min_samples_split=5, n_estimators=1000; total time=  23.0s\n",
      "[CV] END max_depth=25, max_features=auto, min_samples_leaf=2, min_samples_split=5, n_estimators=1000; total time=  20.9s\n",
      "[CV] END max_depth=10, max_features=sqrt, min_samples_leaf=5, min_samples_split=5, n_estimators=900; total time=   6.1s\n",
      "[CV] END max_depth=10, max_features=sqrt, min_samples_leaf=5, min_samples_split=5, n_estimators=900; total time=   6.2s\n",
      "[CV] END max_depth=10, max_features=sqrt, min_samples_leaf=5, min_samples_split=5, n_estimators=900; total time=   6.3s\n",
      "[CV] END max_depth=10, max_features=sqrt, min_samples_leaf=5, min_samples_split=5, n_estimators=900; total time=   6.2s\n",
      "[CV] END max_depth=10, max_features=sqrt, min_samples_leaf=5, min_samples_split=5, n_estimators=900; total time=   6.2s\n",
      "[CV] END max_depth=20, max_features=sqrt, min_samples_leaf=10, min_samples_split=15, n_estimators=100; total time=   0.8s\n",
      "[CV] END max_depth=20, max_features=sqrt, min_samples_leaf=10, min_samples_split=15, n_estimators=100; total time=   0.8s\n",
      "[CV] END max_depth=20, max_features=sqrt, min_samples_leaf=10, min_samples_split=15, n_estimators=100; total time=   0.8s\n",
      "[CV] END max_depth=20, max_features=sqrt, min_samples_leaf=10, min_samples_split=15, n_estimators=100; total time=   0.8s\n",
      "[CV] END max_depth=20, max_features=sqrt, min_samples_leaf=10, min_samples_split=15, n_estimators=100; total time=   0.8s\n",
      "[CV] END max_depth=25, max_features=auto, min_samples_leaf=5, min_samples_split=100, n_estimators=200; total time=   3.5s\n",
      "[CV] END max_depth=25, max_features=auto, min_samples_leaf=5, min_samples_split=100, n_estimators=200; total time=   3.4s\n",
      "[CV] END max_depth=25, max_features=auto, min_samples_leaf=5, min_samples_split=100, n_estimators=200; total time=   3.6s\n",
      "[CV] END max_depth=25, max_features=auto, min_samples_leaf=5, min_samples_split=100, n_estimators=200; total time=   3.4s\n",
      "[CV] END max_depth=25, max_features=auto, min_samples_leaf=5, min_samples_split=100, n_estimators=200; total time=   3.3s\n",
      "[CV] END max_depth=15, max_features=auto, min_samples_leaf=10, min_samples_split=2, n_estimators=100; total time=   1.7s\n",
      "[CV] END max_depth=15, max_features=auto, min_samples_leaf=10, min_samples_split=2, n_estimators=100; total time=   1.7s\n",
      "[CV] END max_depth=15, max_features=auto, min_samples_leaf=10, min_samples_split=2, n_estimators=100; total time=   1.7s\n",
      "[CV] END max_depth=15, max_features=auto, min_samples_leaf=10, min_samples_split=2, n_estimators=100; total time=   1.7s\n",
      "[CV] END max_depth=15, max_features=auto, min_samples_leaf=10, min_samples_split=2, n_estimators=100; total time=   1.7s\n",
      "[CV] END max_depth=20, max_features=sqrt, min_samples_leaf=10, min_samples_split=10, n_estimators=200; total time=   1.6s\n",
      "[CV] END max_depth=20, max_features=sqrt, min_samples_leaf=10, min_samples_split=10, n_estimators=200; total time=   1.6s\n",
      "[CV] END max_depth=20, max_features=sqrt, min_samples_leaf=10, min_samples_split=10, n_estimators=200; total time=   1.6s\n",
      "[CV] END max_depth=20, max_features=sqrt, min_samples_leaf=10, min_samples_split=10, n_estimators=200; total time=   1.6s\n",
      "[CV] END max_depth=20, max_features=sqrt, min_samples_leaf=10, min_samples_split=10, n_estimators=200; total time=   1.6s\n",
      "[CV] END max_depth=30, max_features=auto, min_samples_leaf=10, min_samples_split=2, n_estimators=200; total time=   3.6s\n",
      "[CV] END max_depth=30, max_features=auto, min_samples_leaf=10, min_samples_split=2, n_estimators=200; total time=   3.6s\n",
      "[CV] END max_depth=30, max_features=auto, min_samples_leaf=10, min_samples_split=2, n_estimators=200; total time=   3.6s\n",
      "[CV] END max_depth=30, max_features=auto, min_samples_leaf=10, min_samples_split=2, n_estimators=200; total time=   3.6s\n",
      "[CV] END max_depth=30, max_features=auto, min_samples_leaf=10, min_samples_split=2, n_estimators=200; total time=   3.9s\n",
      "[CV] END max_depth=5, max_features=auto, min_samples_leaf=1, min_samples_split=5, n_estimators=600; total time=   5.6s\n",
      "[CV] END max_depth=5, max_features=auto, min_samples_leaf=1, min_samples_split=5, n_estimators=600; total time=   5.6s\n",
      "[CV] END max_depth=5, max_features=auto, min_samples_leaf=1, min_samples_split=5, n_estimators=600; total time=   5.7s\n",
      "[CV] END max_depth=5, max_features=auto, min_samples_leaf=1, min_samples_split=5, n_estimators=600; total time=   5.5s\n",
      "[CV] END max_depth=5, max_features=auto, min_samples_leaf=1, min_samples_split=5, n_estimators=600; total time=   5.7s\n",
      "[CV] END max_depth=5, max_features=auto, min_samples_leaf=2, min_samples_split=10, n_estimators=700; total time=   6.6s\n",
      "[CV] END max_depth=5, max_features=auto, min_samples_leaf=2, min_samples_split=10, n_estimators=700; total time=   6.5s\n",
      "[CV] END max_depth=5, max_features=auto, min_samples_leaf=2, min_samples_split=10, n_estimators=700; total time=   6.5s\n",
      "[CV] END max_depth=5, max_features=auto, min_samples_leaf=2, min_samples_split=10, n_estimators=700; total time=   6.5s\n",
      "[CV] END max_depth=5, max_features=auto, min_samples_leaf=2, min_samples_split=10, n_estimators=700; total time=   6.5s\n",
      "[CV] END max_depth=15, max_features=sqrt, min_samples_leaf=1, min_samples_split=5, n_estimators=300; total time=   2.8s\n",
      "[CV] END max_depth=15, max_features=sqrt, min_samples_leaf=1, min_samples_split=5, n_estimators=300; total time=   2.8s\n",
      "[CV] END max_depth=15, max_features=sqrt, min_samples_leaf=1, min_samples_split=5, n_estimators=300; total time=   3.0s\n",
      "[CV] END max_depth=15, max_features=sqrt, min_samples_leaf=1, min_samples_split=5, n_estimators=300; total time=   2.8s\n",
      "[CV] END max_depth=15, max_features=sqrt, min_samples_leaf=1, min_samples_split=5, n_estimators=300; total time=   2.7s\n"
     ]
    },
    {
     "data": {
      "text/plain": [
       "RandomizedSearchCV(cv=5, estimator=RandomForestRegressor(), n_jobs=1,\n",
       "                   param_distributions={'max_depth': [5, 10, 15, 20, 25, 30],\n",
       "                                        'max_features': ['auto', 'sqrt'],\n",
       "                                        'min_samples_leaf': [1, 2, 5, 10],\n",
       "                                        'min_samples_split': [2, 5, 10, 15,\n",
       "                                                              100],\n",
       "                                        'n_estimators': [100, 200, 300, 400,\n",
       "                                                         500, 600, 700, 800,\n",
       "                                                         900, 1000, 1100,\n",
       "                                                         1200]},\n",
       "                   scoring='neg_mean_squared_error', verbose=2)"
      ]
     },
     "execution_count": 181,
     "metadata": {},
     "output_type": "execute_result"
    }
   ],
   "source": [
    "rf_random.fit(X_train_val,y_train_val)"
   ]
  },
  {
   "cell_type": "code",
   "execution_count": 182,
   "id": "cccb8a3f",
   "metadata": {},
   "outputs": [
    {
     "data": {
      "text/plain": [
       "{'n_estimators': 1000,\n",
       " 'min_samples_split': 5,\n",
       " 'min_samples_leaf': 2,\n",
       " 'max_features': 'auto',\n",
       " 'max_depth': 25}"
      ]
     },
     "execution_count": 182,
     "metadata": {},
     "output_type": "execute_result"
    }
   ],
   "source": [
    "rf_random.best_params_"
   ]
  },
  {
   "cell_type": "code",
   "execution_count": 183,
   "id": "56390fd4",
   "metadata": {},
   "outputs": [],
   "source": [
    "prediction = rf_random.predict(X_test)"
   ]
  },
  {
   "cell_type": "code",
   "execution_count": 184,
   "id": "3665c015",
   "metadata": {},
   "outputs": [
    {
     "data": {
      "image/png": "[encoded data removed]",
      "text/plain": [
       "<Figure size 432x288 with 1 Axes>"
      ]
     },
     "metadata": {},
     "output_type": "display_data"
    }
   ],
   "source": [
    "plt.scatter(y_test,prediction,alpha =0.2,color=\"DarkBlue\")\n",
    "plt.title('Actual vs. Predicted Airline Prices')\n",
    "plt.xlabel('Predicted Airline Prices')\n",
    "plt.ylabel('Actual Airline Prices');"
   ]
  },
  {
   "cell_type": "code",
   "execution_count": 185,
   "id": "c76e13d3",
   "metadata": {},
   "outputs": [
    {
     "name": "stdout",
     "output_type": "stream",
     "text": [
      "MAE: 64.19388289923229\n",
      "MSE: 41409.9342490973\n",
      "RMSE: 203.49431011479732\n"
     ]
    }
   ],
   "source": [
    "print(\"MAE:\" , metrics.mean_absolute_error(y_test,prediction))\n",
    "print(\"MSE:\" , metrics.mean_squared_error(y_test,prediction))\n",
    "print(\"RMSE:\" , np.sqrt(metrics.mean_squared_error(y_test,prediction)))"
   ]
  },
  {
   "cell_type": "markdown",
   "id": "e85d0981",
   "metadata": {},
   "source": [
    "#### Therefore, hyperparameter tuning did not improve the model"
   ]
  },
  {
   "cell_type": "code",
   "execution_count": 186,
   "id": "e56e3e3a",
   "metadata": {},
   "outputs": [
    {
     "data": {
      "text/html": [
       "<div>\n",
       "<style scoped>\n",
       "    .dataframe tbody tr th:only-of-type {\n",
       "        vertical-align: middle;\n",
       "    }\n",
       "\n",
       "    .dataframe tbody tr th {\n",
       "        vertical-align: top;\n",
       "    }\n",
       "\n",
       "    .dataframe thead th {\n",
       "        text-align: right;\n",
       "    }\n",
       "</style>\n",
       "<table border=\"1\" class=\"dataframe\">\n",
       "  <thead>\n",
       "    <tr style=\"text-align: right;\">\n",
       "      <th></th>\n",
       "      <th>Predicted Price</th>\n",
       "      <th>Actual Price</th>\n",
       "    </tr>\n",
       "  </thead>\n",
       "  <tbody>\n",
       "    <tr>\n",
       "      <th>0</th>\n",
       "      <td>2676.530000</td>\n",
       "      <td>2676.53</td>\n",
       "    </tr>\n",
       "    <tr>\n",
       "      <th>1</th>\n",
       "      <td>182.571321</td>\n",
       "      <td>248.53</td>\n",
       "    </tr>\n",
       "    <tr>\n",
       "      <th>2</th>\n",
       "      <td>254.362293</td>\n",
       "      <td>265.07</td>\n",
       "    </tr>\n",
       "    <tr>\n",
       "      <th>3</th>\n",
       "      <td>447.386056</td>\n",
       "      <td>490.93</td>\n",
       "    </tr>\n",
       "    <tr>\n",
       "      <th>4</th>\n",
       "      <td>643.470000</td>\n",
       "      <td>643.47</td>\n",
       "    </tr>\n",
       "    <tr>\n",
       "      <th>...</th>\n",
       "      <td>...</td>\n",
       "      <td>...</td>\n",
       "    </tr>\n",
       "    <tr>\n",
       "      <th>10015</th>\n",
       "      <td>2682.130000</td>\n",
       "      <td>2682.13</td>\n",
       "    </tr>\n",
       "    <tr>\n",
       "      <th>10016</th>\n",
       "      <td>1605.962800</td>\n",
       "      <td>1608.00</td>\n",
       "    </tr>\n",
       "    <tr>\n",
       "      <th>10017</th>\n",
       "      <td>233.286587</td>\n",
       "      <td>316.00</td>\n",
       "    </tr>\n",
       "    <tr>\n",
       "      <th>10018</th>\n",
       "      <td>1533.600000</td>\n",
       "      <td>1533.60</td>\n",
       "    </tr>\n",
       "    <tr>\n",
       "      <th>10019</th>\n",
       "      <td>657.900585</td>\n",
       "      <td>686.93</td>\n",
       "    </tr>\n",
       "  </tbody>\n",
       "</table>\n",
       "<p>10020 rows × 2 columns</p>\n",
       "</div>"
      ],
      "text/plain": [
       "       Predicted Price  Actual Price\n",
       "0          2676.530000       2676.53\n",
       "1           182.571321        248.53\n",
       "2           254.362293        265.07\n",
       "3           447.386056        490.93\n",
       "4           643.470000        643.47\n",
       "...                ...           ...\n",
       "10015      2682.130000       2682.13\n",
       "10016      1605.962800       1608.00\n",
       "10017       233.286587        316.00\n",
       "10018      1533.600000       1533.60\n",
       "10019       657.900585        686.93\n",
       "\n",
       "[10020 rows x 2 columns]"
      ]
     },
     "execution_count": 186,
     "metadata": {},
     "output_type": "execute_result"
    }
   ],
   "source": [
    "test_df = pd.DataFrame({\n",
    "    \"Predicted Price\" : rf.predict(X_test),\n",
    "    \"Actual Price\" : y_test,\n",
    "}).reset_index(drop = True)\n",
    "\n",
    "test_df"
   ]
  },
  {
   "cell_type": "markdown",
   "id": "4f134f34",
   "metadata": {},
   "source": [
    "## Saving The Final Model: <a class=\"anchor\" id=\"model\"></a>"
   ]
  },
  {
   "cell_type": "code",
   "execution_count": 190,
   "id": "e75f71cc",
   "metadata": {},
   "outputs": [],
   "source": [
    "# save the model\n",
    "file = open('rf_flight_prediction.pkl', 'wb')\n",
    "pkl.dump(rf, file)"
   ]
  },
  {
   "cell_type": "code",
   "execution_count": 191,
   "id": "e40d7102",
   "metadata": {},
   "outputs": [],
   "source": [
    "# open the model\n",
    "model = open('rf_flight_prediction.pkl','rb')\n",
    "rf_flight_prediction = pkl.load(model)"
   ]
  },
  {
   "cell_type": "code",
   "execution_count": 196,
   "id": "b59bb8bb",
   "metadata": {},
   "outputs": [
    {
     "name": "stdout",
     "output_type": "stream",
     "text": [
      "R2 score 0.9458897010690771\n",
      "MAE: 61.86501612022038\n",
      "MSE: 40409.86746202512\n",
      "RMSE: 201.02205715300278\n"
     ]
    }
   ],
   "source": [
    "print(f'R2 score {metrics.r2_score(y_test,rf_flight_prediction.predict(X_test))}')\n",
    "print(\"MAE:\" , metrics.mean_absolute_error(y_test,rf_flight_prediction.predict(X_test)))\n",
    "print(\"MSE:\" , metrics.mean_squared_error(y_test,rf_flight_prediction.predict(X_test)))\n",
    "print(\"RMSE:\" , np.sqrt(metrics.mean_squared_error(y_test,rf_flight_prediction.predict(X_test))))"
   ]
  },
  {
   "cell_type": "markdown",
   "id": "91bcaf45",
   "metadata": {},
   "source": [
    "### Therefore, the final model is able to predict flight ticket prices within around  ≈ $61.87"
   ]
  }
 ],
 "metadata": {
  "kernelspec": {
   "display_name": "Python 3 (ipykernel)",
   "language": "python",
   "name": "python3"
  },
  "language_info": {
   "codemirror_mode": {
    "name": "ipython",
    "version": 3
   },
   "file_extension": ".py",
   "mimetype": "text/x-python",
   "name": "python",
   "nbconvert_exporter": "python",
   "pygments_lexer": "ipython3",
   "version": "3.11.3"
  }
 },
 "nbformat": 4,
 "nbformat_minor": 5
}
